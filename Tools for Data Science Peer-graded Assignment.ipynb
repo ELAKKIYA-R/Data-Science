{
 "cells": [
  {
   "cell_type": "markdown",
   "id": "faf745f0",
   "metadata": {},
   "source": [
    "<H1>My Jupyter Notebook on IBM Watson Studio<H1>"
   ]
  },
  {
   "attachments": {},
   "cell_type": "markdown",
   "id": "e3a92563",
   "metadata": {},
   "source": [
    "<b>Elakkiya R</b><br>Data Scientist "
   ]
  },
  {
   "attachments": {},
   "cell_type": "markdown",
   "id": "d00ce2ec",
   "metadata": {},
   "source": [
    "<i>I am interested in data science because I like to work with data and I want to become a data scientist in the industry of FinTech , I want to be able help clients to make make best real Estate and Stock investments, and having huge command of Data science will personally help me to make good business decisions. <i>"
   ]
  },
  {
   "cell_type": "markdown",
   "id": "ecea0c6a",
   "metadata": {},
   "source": [
    "<h3>The Following Code will Display today's time and date</h3> "
   ]
  },
  {
   "cell_type": "code",
   "execution_count": 1,
   "id": "13732add",
   "metadata": {},
   "outputs": [
    {
     "name": "stdout",
     "output_type": "stream",
     "text": [
      "Today's Date and Time is  2023-01-29 22:45:36.696534\n"
     ]
    }
   ],
   "source": [
    "import datetime \n",
    "message = \"Today's Date and Time is \" \n",
    "print (message , datetime.datetime.now() )"
   ]
  },
  {
   "cell_type": "markdown",
   "id": "670b3f79",
   "metadata": {},
   "source": [
    "<html>\n",
    "<header>\n",
    "</header>\n",
    "\n",
    "<body>\n",
    "    <section>\n",
    "        <h1> My favourite Fruits</h1>\n",
    "        <ol>\n",
    "            <li>Apple</li>\n",
    "            <li>Banana</li>\n",
    "            <li>Orange</li>\n",
    "            <li>Mango</li>\n",
    "            <li>Grapes</li>\n",
    "        </ol>\n",
    "        <hr>\n",
    "        <table border=\"1px\">\n",
    "            <tr>\n",
    "                <td><b>Needs</b></td>\n",
    "                <td><b>Wants</b></td>\n",
    "            </tr>\n",
    "            <tr>\n",
    "                <td>Water</td>\n",
    "                <td>Car</td>\n",
    "            </tr>\n",
    "            <tr>\n",
    "                <td>Food</td>\n",
    "                <td>Phone</td>\n",
    "            </tr>\n",
    "            <tr>\n",
    "                <td>Education</td>\n",
    "                <td>Computer</td>\n",
    "            </tr>\n",
    "            <tr>\n",
    "                <td>Medicine</td>\n",
    "                <td>Television</td>\n",
    "            </tr>\n",
    "        </table>\n",
    "        <br>\n",
    "        <hr>\n",
    "    </section>\n",
    "    <footer>\n",
    "        <a href=\"https://web.facebook.com/\">https://web.facebook.com/</a>\n",
    "    </footer>\n",
    "</body>\n",
    "</html>"
   ]
  },
  {
   "cell_type": "markdown",
   "id": "ad581afd",
   "metadata": {},
   "source": []
  },
  {
   "cell_type": "code",
   "execution_count": null,
   "id": "c01b902a",
   "metadata": {},
   "outputs": [],
   "source": []
  }
 ],
 "metadata": {
  "kernelspec": {
   "display_name": "Python 3.10.6 64-bit",
   "language": "python",
   "name": "python3"
  },
  "language_info": {
   "codemirror_mode": {
    "name": "ipython",
    "version": 3
   },
   "file_extension": ".py",
   "mimetype": "text/x-python",
   "name": "python",
   "nbconvert_exporter": "python",
   "pygments_lexer": "ipython3",
   "version": "3.10.6"
  },
  "vscode": {
   "interpreter": {
    "hash": "1fa163922eb0b3709bbb5d8082b2465c9de796dbaacca80cbaa600e7fff3e4fe"
   }
  }
 },
 "nbformat": 4,
 "nbformat_minor": 5
}
